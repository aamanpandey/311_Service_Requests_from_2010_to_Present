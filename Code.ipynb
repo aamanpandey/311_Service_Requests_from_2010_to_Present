{
 "cells": [
  {
   "cell_type": "markdown",
   "metadata": {
    "toc": true
   },
   "source": [
    "<h1>Table of Contents<span class=\"tocSkip\"></span></h1>\n",
    "<div class=\"toc\"><ul class=\"toc-item\"><li><span><a href=\"#Description\" data-toc-modified-id=\"Description-1\"><span class=\"toc-item-num\">1&nbsp;&nbsp;</span>Description</a></span></li><li><span><a href=\"#Import-Library-and-Data-Set\" data-toc-modified-id=\"Import-Library-and-Data-Set-2\"><span class=\"toc-item-num\">2&nbsp;&nbsp;</span>Import Library and Data Set</a></span><ul class=\"toc-item\"><li><span><a href=\"#Drop-Columns\" data-toc-modified-id=\"Drop-Columns-2.1\"><span class=\"toc-item-num\">2.1&nbsp;&nbsp;</span>Drop Columns</a></span></li></ul></li><li><span><a href=\"#Forseeing-Variable-Problems\" data-toc-modified-id=\"Forseeing-Variable-Problems-3\"><span class=\"toc-item-num\">3&nbsp;&nbsp;</span>Forseeing Variable Problems</a></span><ul class=\"toc-item\"><li><span><a href=\"#Identifying-numerical-and-categorical-variables\" data-toc-modified-id=\"Identifying-numerical-and-categorical-variables-3.1\"><span class=\"toc-item-num\">3.1&nbsp;&nbsp;</span>Identifying numerical and categorical variables</a></span></li><li><span><a href=\"#Check-values-for-variables\" data-toc-modified-id=\"Check-values-for-variables-3.2\"><span class=\"toc-item-num\">3.2&nbsp;&nbsp;</span>Check values for variables</a></span></li></ul></li><li><span><a href=\"#Checking-for-NA-Values\" data-toc-modified-id=\"Checking-for-NA-Values-4\"><span class=\"toc-item-num\">4&nbsp;&nbsp;</span>Checking for NA Values</a></span></li><li><span><a href=\"#Exploratory-Analysis¶\" data-toc-modified-id=\"Exploratory-Analysis¶-5\"><span class=\"toc-item-num\">5&nbsp;&nbsp;</span>Exploratory Analysis¶</a></span></li><li><span><a href=\"#Null-and-Alternate-Hypothesis\" data-toc-modified-id=\"Null-and-Alternate-Hypothesis-6\"><span class=\"toc-item-num\">6&nbsp;&nbsp;</span>Null and Alternate Hypothesis</a></span><ul class=\"toc-item\"><li><span><a href=\"#Problem-1\" data-toc-modified-id=\"Problem-1-6.1\"><span class=\"toc-item-num\">6.1&nbsp;&nbsp;</span>Problem 1</a></span><ul class=\"toc-item\"><li><span><a href=\"#Hypothesis\" data-toc-modified-id=\"Hypothesis-6.1.1\"><span class=\"toc-item-num\">6.1.1&nbsp;&nbsp;</span>Hypothesis</a></span><ul class=\"toc-item\"><li><span><a href=\"#Statistical-Test\" data-toc-modified-id=\"Statistical-Test-6.1.1.1\"><span class=\"toc-item-num\">6.1.1.1&nbsp;&nbsp;</span>Statistical Test</a></span></li><li><span><a href=\"#Result:\" data-toc-modified-id=\"Result:-6.1.1.2\"><span class=\"toc-item-num\">6.1.1.2&nbsp;&nbsp;</span>Result:</a></span></li></ul></li></ul></li><li><span><a href=\"#Problem-2\" data-toc-modified-id=\"Problem-2-6.2\"><span class=\"toc-item-num\">6.2&nbsp;&nbsp;</span>Problem 2</a></span><ul class=\"toc-item\"><li><span><a href=\"#Hypothesis\" data-toc-modified-id=\"Hypothesis-6.2.1\"><span class=\"toc-item-num\">6.2.1&nbsp;&nbsp;</span>Hypothesis</a></span><ul class=\"toc-item\"><li><span><a href=\"#Statistical-Test\" data-toc-modified-id=\"Statistical-Test-6.2.1.1\"><span class=\"toc-item-num\">6.2.1.1&nbsp;&nbsp;</span>Statistical Test</a></span></li><li><span><a href=\"#Result:\" data-toc-modified-id=\"Result:-6.2.1.2\"><span class=\"toc-item-num\">6.2.1.2&nbsp;&nbsp;</span>Result:</a></span></li></ul></li></ul></li></ul></li></ul></div>"
   ]
  },
  {
   "cell_type": "code",
   "execution_count": 1,
   "metadata": {},
   "outputs": [],
   "source": [
    "#Customer Service Requests Analysis"
   ]
  },
  {
   "cell_type": "markdown",
   "metadata": {},
   "source": [
    "# Description"
   ]
  },
  {
   "cell_type": "markdown",
   "metadata": {},
   "source": [
    "NYC 311's mission is to provide the public with quick and easy access to all New York City government services and information while offering the best customer service. Each day, NYC311 receives thousands of requests related to several hundred types of non-emergency services, including noise complaints, plumbing issues, and illegally parked cars. These requests are received by NYC311 and forwarded to the relevant agencies such as the police, buildings, or transportation. The agency responds to the request, addresses it, and then closes it."
   ]
  },
  {
   "cell_type": "markdown",
   "metadata": {},
   "source": [
    "# Import Library and Data Set"
   ]
  },
  {
   "cell_type": "code",
   "execution_count": 2,
   "metadata": {},
   "outputs": [],
   "source": [
    "import numpy as np\n",
    "import pandas as pd\n",
    "import matplotlib.pyplot as plt\n",
    "from matplotlib import style\n",
    "import seaborn as sns\n",
    "import warnings\n",
    "warnings.filterwarnings(\"ignore\")"
   ]
  },
  {
   "cell_type": "code",
   "execution_count": 3,
   "metadata": {},
   "outputs": [],
   "source": [
    "data = pd.read_csv(\"311_Service_Requests_from_2010_to_Present.csv\")"
   ]
  },
  {
   "cell_type": "code",
   "execution_count": 4,
   "metadata": {},
   "outputs": [
    {
     "data": {
      "text/html": [
       "<div>\n",
       "<style scoped>\n",
       "    .dataframe tbody tr th:only-of-type {\n",
       "        vertical-align: middle;\n",
       "    }\n",
       "\n",
       "    .dataframe tbody tr th {\n",
       "        vertical-align: top;\n",
       "    }\n",
       "\n",
       "    .dataframe thead th {\n",
       "        text-align: right;\n",
       "    }\n",
       "</style>\n",
       "<table border=\"1\" class=\"dataframe\">\n",
       "  <thead>\n",
       "    <tr style=\"text-align: right;\">\n",
       "      <th></th>\n",
       "      <th>Unique Key</th>\n",
       "      <th>Created Date</th>\n",
       "      <th>Closed Date</th>\n",
       "      <th>Agency</th>\n",
       "      <th>Agency Name</th>\n",
       "      <th>Complaint Type</th>\n",
       "      <th>Descriptor</th>\n",
       "      <th>Location Type</th>\n",
       "      <th>Incident Zip</th>\n",
       "      <th>Incident Address</th>\n",
       "      <th>...</th>\n",
       "      <th>Bridge Highway Name</th>\n",
       "      <th>Bridge Highway Direction</th>\n",
       "      <th>Road Ramp</th>\n",
       "      <th>Bridge Highway Segment</th>\n",
       "      <th>Garage Lot Name</th>\n",
       "      <th>Ferry Direction</th>\n",
       "      <th>Ferry Terminal Name</th>\n",
       "      <th>Latitude</th>\n",
       "      <th>Longitude</th>\n",
       "      <th>Location</th>\n",
       "    </tr>\n",
       "  </thead>\n",
       "  <tbody>\n",
       "    <tr>\n",
       "      <td>0</td>\n",
       "      <td>32310363</td>\n",
       "      <td>12/31/2015 11:59:45 PM</td>\n",
       "      <td>01-01-16 0:55</td>\n",
       "      <td>NYPD</td>\n",
       "      <td>New York City Police Department</td>\n",
       "      <td>Noise - Street/Sidewalk</td>\n",
       "      <td>Loud Music/Party</td>\n",
       "      <td>Street/Sidewalk</td>\n",
       "      <td>10034.0</td>\n",
       "      <td>71 VERMILYEA AVENUE</td>\n",
       "      <td>...</td>\n",
       "      <td>NaN</td>\n",
       "      <td>NaN</td>\n",
       "      <td>NaN</td>\n",
       "      <td>NaN</td>\n",
       "      <td>NaN</td>\n",
       "      <td>NaN</td>\n",
       "      <td>NaN</td>\n",
       "      <td>40.865682</td>\n",
       "      <td>-73.923501</td>\n",
       "      <td>(40.86568153633767, -73.92350095571744)</td>\n",
       "    </tr>\n",
       "    <tr>\n",
       "      <td>1</td>\n",
       "      <td>32309934</td>\n",
       "      <td>12/31/2015 11:59:44 PM</td>\n",
       "      <td>01-01-16 1:26</td>\n",
       "      <td>NYPD</td>\n",
       "      <td>New York City Police Department</td>\n",
       "      <td>Blocked Driveway</td>\n",
       "      <td>No Access</td>\n",
       "      <td>Street/Sidewalk</td>\n",
       "      <td>11105.0</td>\n",
       "      <td>27-07 23 AVENUE</td>\n",
       "      <td>...</td>\n",
       "      <td>NaN</td>\n",
       "      <td>NaN</td>\n",
       "      <td>NaN</td>\n",
       "      <td>NaN</td>\n",
       "      <td>NaN</td>\n",
       "      <td>NaN</td>\n",
       "      <td>NaN</td>\n",
       "      <td>40.775945</td>\n",
       "      <td>-73.915094</td>\n",
       "      <td>(40.775945312321085, -73.91509393898605)</td>\n",
       "    </tr>\n",
       "    <tr>\n",
       "      <td>2</td>\n",
       "      <td>32309159</td>\n",
       "      <td>12/31/2015 11:59:29 PM</td>\n",
       "      <td>01-01-16 4:51</td>\n",
       "      <td>NYPD</td>\n",
       "      <td>New York City Police Department</td>\n",
       "      <td>Blocked Driveway</td>\n",
       "      <td>No Access</td>\n",
       "      <td>Street/Sidewalk</td>\n",
       "      <td>10458.0</td>\n",
       "      <td>2897 VALENTINE AVENUE</td>\n",
       "      <td>...</td>\n",
       "      <td>NaN</td>\n",
       "      <td>NaN</td>\n",
       "      <td>NaN</td>\n",
       "      <td>NaN</td>\n",
       "      <td>NaN</td>\n",
       "      <td>NaN</td>\n",
       "      <td>NaN</td>\n",
       "      <td>40.870325</td>\n",
       "      <td>-73.888525</td>\n",
       "      <td>(40.870324522111424, -73.88852464418646)</td>\n",
       "    </tr>\n",
       "    <tr>\n",
       "      <td>3</td>\n",
       "      <td>32305098</td>\n",
       "      <td>12/31/2015 11:57:46 PM</td>\n",
       "      <td>01-01-16 7:43</td>\n",
       "      <td>NYPD</td>\n",
       "      <td>New York City Police Department</td>\n",
       "      <td>Illegal Parking</td>\n",
       "      <td>Commercial Overnight Parking</td>\n",
       "      <td>Street/Sidewalk</td>\n",
       "      <td>10461.0</td>\n",
       "      <td>2940 BAISLEY AVENUE</td>\n",
       "      <td>...</td>\n",
       "      <td>NaN</td>\n",
       "      <td>NaN</td>\n",
       "      <td>NaN</td>\n",
       "      <td>NaN</td>\n",
       "      <td>NaN</td>\n",
       "      <td>NaN</td>\n",
       "      <td>NaN</td>\n",
       "      <td>40.835994</td>\n",
       "      <td>-73.828379</td>\n",
       "      <td>(40.83599404683083, -73.82837939584206)</td>\n",
       "    </tr>\n",
       "    <tr>\n",
       "      <td>4</td>\n",
       "      <td>32306529</td>\n",
       "      <td>12/31/2015 11:56:58 PM</td>\n",
       "      <td>01-01-16 3:24</td>\n",
       "      <td>NYPD</td>\n",
       "      <td>New York City Police Department</td>\n",
       "      <td>Illegal Parking</td>\n",
       "      <td>Blocked Sidewalk</td>\n",
       "      <td>Street/Sidewalk</td>\n",
       "      <td>11373.0</td>\n",
       "      <td>87-14 57 ROAD</td>\n",
       "      <td>...</td>\n",
       "      <td>NaN</td>\n",
       "      <td>NaN</td>\n",
       "      <td>NaN</td>\n",
       "      <td>NaN</td>\n",
       "      <td>NaN</td>\n",
       "      <td>NaN</td>\n",
       "      <td>NaN</td>\n",
       "      <td>40.733060</td>\n",
       "      <td>-73.874170</td>\n",
       "      <td>(40.733059618956815, -73.87416975810375)</td>\n",
       "    </tr>\n",
       "  </tbody>\n",
       "</table>\n",
       "<p>5 rows × 53 columns</p>\n",
       "</div>"
      ],
      "text/plain": [
       "   Unique Key            Created Date    Closed Date Agency  \\\n",
       "0    32310363  12/31/2015 11:59:45 PM  01-01-16 0:55   NYPD   \n",
       "1    32309934  12/31/2015 11:59:44 PM  01-01-16 1:26   NYPD   \n",
       "2    32309159  12/31/2015 11:59:29 PM  01-01-16 4:51   NYPD   \n",
       "3    32305098  12/31/2015 11:57:46 PM  01-01-16 7:43   NYPD   \n",
       "4    32306529  12/31/2015 11:56:58 PM  01-01-16 3:24   NYPD   \n",
       "\n",
       "                       Agency Name           Complaint Type  \\\n",
       "0  New York City Police Department  Noise - Street/Sidewalk   \n",
       "1  New York City Police Department         Blocked Driveway   \n",
       "2  New York City Police Department         Blocked Driveway   \n",
       "3  New York City Police Department          Illegal Parking   \n",
       "4  New York City Police Department          Illegal Parking   \n",
       "\n",
       "                     Descriptor    Location Type  Incident Zip  \\\n",
       "0              Loud Music/Party  Street/Sidewalk       10034.0   \n",
       "1                     No Access  Street/Sidewalk       11105.0   \n",
       "2                     No Access  Street/Sidewalk       10458.0   \n",
       "3  Commercial Overnight Parking  Street/Sidewalk       10461.0   \n",
       "4              Blocked Sidewalk  Street/Sidewalk       11373.0   \n",
       "\n",
       "        Incident Address  ... Bridge Highway Name Bridge Highway Direction  \\\n",
       "0    71 VERMILYEA AVENUE  ...                 NaN                      NaN   \n",
       "1        27-07 23 AVENUE  ...                 NaN                      NaN   \n",
       "2  2897 VALENTINE AVENUE  ...                 NaN                      NaN   \n",
       "3    2940 BAISLEY AVENUE  ...                 NaN                      NaN   \n",
       "4          87-14 57 ROAD  ...                 NaN                      NaN   \n",
       "\n",
       "  Road Ramp Bridge Highway Segment Garage Lot Name Ferry Direction  \\\n",
       "0       NaN                    NaN             NaN             NaN   \n",
       "1       NaN                    NaN             NaN             NaN   \n",
       "2       NaN                    NaN             NaN             NaN   \n",
       "3       NaN                    NaN             NaN             NaN   \n",
       "4       NaN                    NaN             NaN             NaN   \n",
       "\n",
       "  Ferry Terminal Name   Latitude  Longitude  \\\n",
       "0                 NaN  40.865682 -73.923501   \n",
       "1                 NaN  40.775945 -73.915094   \n",
       "2                 NaN  40.870325 -73.888525   \n",
       "3                 NaN  40.835994 -73.828379   \n",
       "4                 NaN  40.733060 -73.874170   \n",
       "\n",
       "                                   Location  \n",
       "0   (40.86568153633767, -73.92350095571744)  \n",
       "1  (40.775945312321085, -73.91509393898605)  \n",
       "2  (40.870324522111424, -73.88852464418646)  \n",
       "3   (40.83599404683083, -73.82837939584206)  \n",
       "4  (40.733059618956815, -73.87416975810375)  \n",
       "\n",
       "[5 rows x 53 columns]"
      ]
     },
     "execution_count": 4,
     "metadata": {},
     "output_type": "execute_result"
    }
   ],
   "source": [
    "data.head(5)\n"
   ]
  },
  {
   "cell_type": "code",
   "execution_count": 5,
   "metadata": {},
   "outputs": [
    {
     "data": {
      "text/plain": [
       "(300698, 53)"
      ]
     },
     "execution_count": 5,
     "metadata": {},
     "output_type": "execute_result"
    }
   ],
   "source": [
    "data.shape\n"
   ]
  },
  {
   "cell_type": "code",
   "execution_count": 6,
   "metadata": {},
   "outputs": [
    {
     "name": "stdout",
     "output_type": "stream",
     "text": [
      "<class 'pandas.core.frame.DataFrame'>\n",
      "RangeIndex: 300698 entries, 0 to 300697\n",
      "Data columns (total 53 columns):\n",
      "Unique Key                        300698 non-null int64\n",
      "Created Date                      300698 non-null object\n",
      "Closed Date                       298534 non-null object\n",
      "Agency                            300698 non-null object\n",
      "Agency Name                       300698 non-null object\n",
      "Complaint Type                    300698 non-null object\n",
      "Descriptor                        294784 non-null object\n",
      "Location Type                     300567 non-null object\n",
      "Incident Zip                      298083 non-null float64\n",
      "Incident Address                  256288 non-null object\n",
      "Street Name                       256288 non-null object\n",
      "Cross Street 1                    251419 non-null object\n",
      "Cross Street 2                    250919 non-null object\n",
      "Intersection Street 1             43858 non-null object\n",
      "Intersection Street 2             43362 non-null object\n",
      "Address Type                      297883 non-null object\n",
      "City                              298084 non-null object\n",
      "Landmark                          349 non-null object\n",
      "Facility Type                     298527 non-null object\n",
      "Status                            300698 non-null object\n",
      "Due Date                          300695 non-null object\n",
      "Resolution Description            300698 non-null object\n",
      "Resolution Action Updated Date    298511 non-null object\n",
      "Community Board                   300698 non-null object\n",
      "Borough                           300698 non-null object\n",
      "X Coordinate (State Plane)        297158 non-null float64\n",
      "Y Coordinate (State Plane)        297158 non-null float64\n",
      "Park Facility Name                300698 non-null object\n",
      "Park Borough                      300698 non-null object\n",
      "School Name                       300698 non-null object\n",
      "School Number                     300698 non-null object\n",
      "School Region                     300697 non-null object\n",
      "School Code                       300697 non-null object\n",
      "School Phone Number               300698 non-null object\n",
      "School Address                    300698 non-null object\n",
      "School City                       300698 non-null object\n",
      "School State                      300698 non-null object\n",
      "School Zip                        300697 non-null object\n",
      "School Not Found                  300698 non-null object\n",
      "School or Citywide Complaint      0 non-null float64\n",
      "Vehicle Type                      0 non-null float64\n",
      "Taxi Company Borough              0 non-null float64\n",
      "Taxi Pick Up Location             0 non-null float64\n",
      "Bridge Highway Name               243 non-null object\n",
      "Bridge Highway Direction          243 non-null object\n",
      "Road Ramp                         213 non-null object\n",
      "Bridge Highway Segment            213 non-null object\n",
      "Garage Lot Name                   0 non-null float64\n",
      "Ferry Direction                   1 non-null object\n",
      "Ferry Terminal Name               2 non-null object\n",
      "Latitude                          297158 non-null float64\n",
      "Longitude                         297158 non-null float64\n",
      "Location                          297158 non-null object\n",
      "dtypes: float64(10), int64(1), object(42)\n",
      "memory usage: 121.6+ MB\n"
     ]
    }
   ],
   "source": [
    "data.info()"
   ]
  },
  {
   "cell_type": "code",
   "execution_count": 7,
   "metadata": {},
   "outputs": [],
   "source": [
    "#Convert closes date and Created Date columns data type from Str to Datetime\n",
    "data['Closed Date']= pd.to_datetime(data['Closed Date']) \n",
    "data['Created Date']= pd.to_datetime(data['Created Date']) \n",
    "#Calculate Request Closing time that is difference of Create Date and Closed Date\n",
    "data[\"Request_Closing_Time\"] = data[\"Closed Date\"] - data[\"Created Date\"]"
   ]
  },
  {
   "cell_type": "code",
   "execution_count": 8,
   "metadata": {},
   "outputs": [],
   "source": [
    "#Convert closes date and Created Date columns data type from Str to Datetime\n",
    "data['Closed Date']= pd.to_datetime(data['Closed Date']) \n",
    "data['Created Date']= pd.to_datetime(data['Created Date']) \n",
    "#Calculate Request Closing time that is difference of Create Date and Closed Date\n",
    "data[\"Response_Time1\"] = data[\"Closed Date\"] - data[\"Created Date\"]\n",
    "data[\"Response_Time\"]=0\n",
    "\n",
    "for i in range(len(data[\"Response_Time1\"])):\n",
    "    date=data[\"Response_Time1\"][i]\n",
    "    data[\"Response_Time\"][i]= (date.days*24*60)+(date.seconds)//60\n"
   ]
  },
  {
   "cell_type": "code",
   "execution_count": 9,
   "metadata": {},
   "outputs": [],
   "source": [
    "data=data.drop('Response_Time1', axis=1)"
   ]
  },
  {
   "cell_type": "code",
   "execution_count": 10,
   "metadata": {},
   "outputs": [
    {
     "data": {
      "text/plain": [
       "(300698, 55)"
      ]
     },
     "execution_count": 10,
     "metadata": {},
     "output_type": "execute_result"
    }
   ],
   "source": [
    "data.shape"
   ]
  },
  {
   "cell_type": "code",
   "execution_count": 11,
   "metadata": {},
   "outputs": [
    {
     "data": {
      "text/plain": [
       "Index(['Unique Key', 'Created Date', 'Closed Date', 'Agency', 'Agency Name',\n",
       "       'Complaint Type', 'Descriptor', 'Location Type', 'Incident Zip',\n",
       "       'Incident Address', 'Street Name', 'Cross Street 1', 'Cross Street 2',\n",
       "       'Intersection Street 1', 'Intersection Street 2', 'Address Type',\n",
       "       'City', 'Landmark', 'Facility Type', 'Status', 'Due Date',\n",
       "       'Resolution Description', 'Resolution Action Updated Date',\n",
       "       'Community Board', 'Borough', 'X Coordinate (State Plane)',\n",
       "       'Y Coordinate (State Plane)', 'Park Facility Name', 'Park Borough',\n",
       "       'School Name', 'School Number', 'School Region', 'School Code',\n",
       "       'School Phone Number', 'School Address', 'School City', 'School State',\n",
       "       'School Zip', 'School Not Found', 'School or Citywide Complaint',\n",
       "       'Vehicle Type', 'Taxi Company Borough', 'Taxi Pick Up Location',\n",
       "       'Bridge Highway Name', 'Bridge Highway Direction', 'Road Ramp',\n",
       "       'Bridge Highway Segment', 'Garage Lot Name', 'Ferry Direction',\n",
       "       'Ferry Terminal Name', 'Latitude', 'Longitude', 'Location',\n",
       "       'Request_Closing_Time', 'Response_Time'],\n",
       "      dtype='object')"
      ]
     },
     "execution_count": 11,
     "metadata": {},
     "output_type": "execute_result"
    }
   ],
   "source": [
    "data.columns"
   ]
  },
  {
   "cell_type": "markdown",
   "metadata": {},
   "source": [
    "## Drop Columns"
   ]
  },
  {
   "cell_type": "code",
   "execution_count": 12,
   "metadata": {},
   "outputs": [],
   "source": [
    "remove_columns= ['Agency Name','Incident Address','Street Name','Cross Street 1','Cross Street 2','Intersection Street 1',\n",
    "'Intersection Street 2','Address Type','Park Facility Name','Park Borough','School Name',\n",
    "'School Number','School Region','School Code','School Phone Number','School Address','School City',\n",
    "'School State','School Zip','School Not Found','School or Citywide Complaint','Vehicle Type',\n",
    "'Taxi Company Borough','Taxi Pick Up Location','Bridge Highway Name','Bridge Highway Direction',\n",
    "'Road Ramp','Bridge Highway Segment','Garage Lot Name','Ferry Direction','Ferry Terminal Name','Landmark',\n",
    "'X Coordinate (State Plane)','Y Coordinate (State Plane)','Due Date','Resolution Action Updated Date','Community Board','Facility Type',\n",
    "'Location']"
   ]
  },
  {
   "cell_type": "code",
   "execution_count": 13,
   "metadata": {},
   "outputs": [
    {
     "name": "stdout",
     "output_type": "stream",
     "text": [
      "<class 'pandas.core.frame.DataFrame'>\n",
      "Int64Index: 291204 entries, 0 to 300697\n",
      "Data columns (total 15 columns):\n",
      "Unique Key                291204 non-null int64\n",
      "Created Date              291204 non-null datetime64[ns]\n",
      "Closed Date               291204 non-null datetime64[ns]\n",
      "Agency                    291204 non-null object\n",
      "Complaint Type            291204 non-null object\n",
      "Descriptor                291204 non-null object\n",
      "Location Type             291149 non-null object\n",
      "Incident Zip              291164 non-null float64\n",
      "City                      291164 non-null object\n",
      "Resolution Description    291204 non-null object\n",
      "Borough                   291204 non-null object\n",
      "Latitude                  291204 non-null float64\n",
      "Longitude                 291204 non-null float64\n",
      "Request_Closing_Time      291204 non-null timedelta64[ns]\n",
      "Response_Time             291204 non-null float64\n",
      "dtypes: datetime64[ns](2), float64(4), int64(1), object(7), timedelta64[ns](1)\n",
      "memory usage: 35.5+ MB\n"
     ]
    }
   ],
   "source": [
    "data.drop(remove_columns, inplace=True, axis=1)\n",
    "data = data[data['Status']=='Closed']\n",
    "data.drop(['Status'],inplace=True, axis=1)\n",
    "data = data[(data['Latitude'].notnull())& (data['Longitude'].notnull()) & (data['Descriptor'].notnull())]\n",
    "data.info()"
   ]
  },
  {
   "cell_type": "markdown",
   "metadata": {},
   "source": [
    "- As most of the requests are 'Closed', hence our analysis will include only 'Closed' requests and  we will drop other records.\n",
    "- Then we will drop the 'Status' column.\n",
    "- Selecting not null values of 'Latitude', 'Longitude' and 'Descriptor' column values will furthere remove empty values."
   ]
  },
  {
   "cell_type": "code",
   "execution_count": 14,
   "metadata": {},
   "outputs": [
    {
     "data": {
      "text/html": [
       "<div>\n",
       "<style scoped>\n",
       "    .dataframe tbody tr th:only-of-type {\n",
       "        vertical-align: middle;\n",
       "    }\n",
       "\n",
       "    .dataframe tbody tr th {\n",
       "        vertical-align: top;\n",
       "    }\n",
       "\n",
       "    .dataframe thead th {\n",
       "        text-align: right;\n",
       "    }\n",
       "</style>\n",
       "<table border=\"1\" class=\"dataframe\">\n",
       "  <thead>\n",
       "    <tr style=\"text-align: right;\">\n",
       "      <th></th>\n",
       "      <th>Unique Key</th>\n",
       "      <th>Created Date</th>\n",
       "      <th>Closed Date</th>\n",
       "      <th>Agency</th>\n",
       "      <th>Complaint Type</th>\n",
       "      <th>Descriptor</th>\n",
       "      <th>Location Type</th>\n",
       "      <th>Incident Zip</th>\n",
       "      <th>City</th>\n",
       "      <th>Resolution Description</th>\n",
       "      <th>Borough</th>\n",
       "      <th>Latitude</th>\n",
       "      <th>Longitude</th>\n",
       "      <th>Request_Closing_Time</th>\n",
       "      <th>Response_Time</th>\n",
       "    </tr>\n",
       "  </thead>\n",
       "  <tbody>\n",
       "    <tr>\n",
       "      <td>0</td>\n",
       "      <td>32310363</td>\n",
       "      <td>2015-12-31 23:59:45</td>\n",
       "      <td>2016-01-01 00:55:00</td>\n",
       "      <td>NYPD</td>\n",
       "      <td>Noise - Street/Sidewalk</td>\n",
       "      <td>Loud Music/Party</td>\n",
       "      <td>Street/Sidewalk</td>\n",
       "      <td>10034.0</td>\n",
       "      <td>NEW YORK</td>\n",
       "      <td>The Police Department responded and upon arriv...</td>\n",
       "      <td>MANHATTAN</td>\n",
       "      <td>40.865682</td>\n",
       "      <td>-73.923501</td>\n",
       "      <td>00:55:15</td>\n",
       "      <td>55.0</td>\n",
       "    </tr>\n",
       "    <tr>\n",
       "      <td>1</td>\n",
       "      <td>32309934</td>\n",
       "      <td>2015-12-31 23:59:44</td>\n",
       "      <td>2016-01-01 01:26:00</td>\n",
       "      <td>NYPD</td>\n",
       "      <td>Blocked Driveway</td>\n",
       "      <td>No Access</td>\n",
       "      <td>Street/Sidewalk</td>\n",
       "      <td>11105.0</td>\n",
       "      <td>ASTORIA</td>\n",
       "      <td>The Police Department responded to the complai...</td>\n",
       "      <td>QUEENS</td>\n",
       "      <td>40.775945</td>\n",
       "      <td>-73.915094</td>\n",
       "      <td>01:26:16</td>\n",
       "      <td>86.0</td>\n",
       "    </tr>\n",
       "    <tr>\n",
       "      <td>2</td>\n",
       "      <td>32309159</td>\n",
       "      <td>2015-12-31 23:59:29</td>\n",
       "      <td>2016-01-01 04:51:00</td>\n",
       "      <td>NYPD</td>\n",
       "      <td>Blocked Driveway</td>\n",
       "      <td>No Access</td>\n",
       "      <td>Street/Sidewalk</td>\n",
       "      <td>10458.0</td>\n",
       "      <td>BRONX</td>\n",
       "      <td>The Police Department responded and upon arriv...</td>\n",
       "      <td>BRONX</td>\n",
       "      <td>40.870325</td>\n",
       "      <td>-73.888525</td>\n",
       "      <td>04:51:31</td>\n",
       "      <td>291.0</td>\n",
       "    </tr>\n",
       "    <tr>\n",
       "      <td>3</td>\n",
       "      <td>32305098</td>\n",
       "      <td>2015-12-31 23:57:46</td>\n",
       "      <td>2016-01-01 07:43:00</td>\n",
       "      <td>NYPD</td>\n",
       "      <td>Illegal Parking</td>\n",
       "      <td>Commercial Overnight Parking</td>\n",
       "      <td>Street/Sidewalk</td>\n",
       "      <td>10461.0</td>\n",
       "      <td>BRONX</td>\n",
       "      <td>The Police Department responded to the complai...</td>\n",
       "      <td>BRONX</td>\n",
       "      <td>40.835994</td>\n",
       "      <td>-73.828379</td>\n",
       "      <td>07:45:14</td>\n",
       "      <td>465.0</td>\n",
       "    </tr>\n",
       "    <tr>\n",
       "      <td>4</td>\n",
       "      <td>32306529</td>\n",
       "      <td>2015-12-31 23:56:58</td>\n",
       "      <td>2016-01-01 03:24:00</td>\n",
       "      <td>NYPD</td>\n",
       "      <td>Illegal Parking</td>\n",
       "      <td>Blocked Sidewalk</td>\n",
       "      <td>Street/Sidewalk</td>\n",
       "      <td>11373.0</td>\n",
       "      <td>ELMHURST</td>\n",
       "      <td>The Police Department responded and upon arriv...</td>\n",
       "      <td>QUEENS</td>\n",
       "      <td>40.733060</td>\n",
       "      <td>-73.874170</td>\n",
       "      <td>03:27:02</td>\n",
       "      <td>207.0</td>\n",
       "    </tr>\n",
       "  </tbody>\n",
       "</table>\n",
       "</div>"
      ],
      "text/plain": [
       "   Unique Key        Created Date         Closed Date Agency  \\\n",
       "0    32310363 2015-12-31 23:59:45 2016-01-01 00:55:00   NYPD   \n",
       "1    32309934 2015-12-31 23:59:44 2016-01-01 01:26:00   NYPD   \n",
       "2    32309159 2015-12-31 23:59:29 2016-01-01 04:51:00   NYPD   \n",
       "3    32305098 2015-12-31 23:57:46 2016-01-01 07:43:00   NYPD   \n",
       "4    32306529 2015-12-31 23:56:58 2016-01-01 03:24:00   NYPD   \n",
       "\n",
       "            Complaint Type                    Descriptor    Location Type  \\\n",
       "0  Noise - Street/Sidewalk              Loud Music/Party  Street/Sidewalk   \n",
       "1         Blocked Driveway                     No Access  Street/Sidewalk   \n",
       "2         Blocked Driveway                     No Access  Street/Sidewalk   \n",
       "3          Illegal Parking  Commercial Overnight Parking  Street/Sidewalk   \n",
       "4          Illegal Parking              Blocked Sidewalk  Street/Sidewalk   \n",
       "\n",
       "   Incident Zip      City                             Resolution Description  \\\n",
       "0       10034.0  NEW YORK  The Police Department responded and upon arriv...   \n",
       "1       11105.0   ASTORIA  The Police Department responded to the complai...   \n",
       "2       10458.0     BRONX  The Police Department responded and upon arriv...   \n",
       "3       10461.0     BRONX  The Police Department responded to the complai...   \n",
       "4       11373.0  ELMHURST  The Police Department responded and upon arriv...   \n",
       "\n",
       "     Borough   Latitude  Longitude Request_Closing_Time  Response_Time  \n",
       "0  MANHATTAN  40.865682 -73.923501             00:55:15           55.0  \n",
       "1     QUEENS  40.775945 -73.915094             01:26:16           86.0  \n",
       "2      BRONX  40.870325 -73.888525             04:51:31          291.0  \n",
       "3      BRONX  40.835994 -73.828379             07:45:14          465.0  \n",
       "4     QUEENS  40.733060 -73.874170             03:27:02          207.0  "
      ]
     },
     "execution_count": 14,
     "metadata": {},
     "output_type": "execute_result"
    }
   ],
   "source": [
    "data.head(5)"
   ]
  },
  {
   "cell_type": "code",
   "execution_count": 15,
   "metadata": {},
   "outputs": [
    {
     "data": {
      "text/plain": [
       "Brooklyn               96881\n",
       "New York               61940\n",
       "Bronx                  40223\n",
       "Staten Island          12214\n",
       "Jamaica                 7155\n",
       "Astoria                 6970\n",
       "Flushing                5919\n",
       "Ridgewood               5124\n",
       "Corona                  4266\n",
       "Woodside                3614\n",
       "South Richmond Hill     2759\n",
       "East Elmhurst           2739\n",
       "Ozone Park              2735\n",
       "Elmhurst                2624\n",
       "Long Island City        2543\n",
       "Woodhaven               2449\n",
       "Maspeth                 2445\n",
       "South Ozone Park        2165\n",
       "Fresh Meadows           1886\n",
       "Richmond Hill           1865\n",
       "Queens Village          1788\n",
       "Middle Village          1759\n",
       "Jackson Heights         1671\n",
       "Forest Hills            1655\n",
       "Rego Park               1477\n",
       "College Point           1217\n",
       "Bayside                 1215\n",
       "Far Rockaway            1163\n",
       "Whitestone              1093\n",
       "Hollis                  1001\n",
       "Howard Beach             923\n",
       "Rosedale                 913\n",
       "Springfield Gardens      871\n",
       "Saint Albans             825\n",
       "Kew Gardens              763\n",
       "Rockaway Park            738\n",
       "Sunnyside                708\n",
       "Little Neck              558\n",
       "Oakland Gardens          546\n",
       "Cambria Heights          471\n",
       "Bellerose                370\n",
       "Glen Oaks                304\n",
       "Arverne                  214\n",
       "Floral Park              152\n",
       "New Hyde Park             98\n",
       "Central Park              97\n",
       "Breezy Point              30\n",
       "Queens                    28\n",
       "Name: City, dtype: int64"
      ]
     },
     "execution_count": 15,
     "metadata": {},
     "output_type": "execute_result"
    }
   ],
   "source": [
    "# fix city names\n",
    "\n",
    "def camel_case(city):\n",
    "    try:\n",
    "        city = city.split(' ')\n",
    "        city = ' '.join([x.lower().capitalize() for x in city])\n",
    "        if city == 'Unknown':\n",
    "            return np.nan\n",
    "        else:\n",
    "            return city\n",
    "    except:\n",
    "        return np.nan\n",
    "    \n",
    "# Apply camel_case function to City column\n",
    "data['City'] = data['City'].apply(camel_case)\n",
    "data['City'].value_counts()"
   ]
  },
  {
   "cell_type": "markdown",
   "metadata": {},
   "source": [
    "# Forseeing Variable Problems"
   ]
  },
  {
   "cell_type": "markdown",
   "metadata": {},
   "source": [
    "## Identifying numerical and categorical variables"
   ]
  },
  {
   "cell_type": "code",
   "execution_count": 16,
   "metadata": {},
   "outputs": [
    {
     "name": "stdout",
     "output_type": "stream",
     "text": [
      "There are 5 continuous variables\n",
      "There are 0 discrete variables\n",
      "There are 3 temporal variables\n",
      "There are 7 categorical variables\n"
     ]
    }
   ],
   "source": [
    "temporal = [var for var in data.columns if 'Yr' in var or 'Year' in var or var in ['Created Date', 'Closed Date', 'Request_Closing_Time' ]]\n",
    "\n",
    "categorical = [var for var in data.columns if data[var].dtype == 'O' and var not in temporal]\n",
    "\n",
    "\n",
    "discrete = [\n",
    "    var for var in data.columns if data[var].dtype != 'O'\n",
    "    and len(data[var].unique()) < 20 and var not in temporal\n",
    "]\n",
    "\n",
    "\n",
    "continuous = [\n",
    "    var for var in data.columns if data[var].dtype != 'O'\n",
    "    if var not in discrete and var not in ['Id', 'SalePrice']\n",
    "    and var not in temporal\n",
    "]\n",
    "\n",
    "print(f'There are {len(continuous)} continuous variables')\n",
    "print(f'There are {len(discrete)} discrete variables')\n",
    "print(f'There are {len(temporal)} temporal variables')\n",
    "print(f'There are {len(categorical)} categorical variables')"
   ]
  },
  {
   "cell_type": "code",
   "execution_count": 17,
   "metadata": {},
   "outputs": [
    {
     "name": "stdout",
     "output_type": "stream",
     "text": [
      "Categorical Variables\n"
     ]
    },
    {
     "data": {
      "text/plain": [
       "['Agency',\n",
       " 'Complaint Type',\n",
       " 'Descriptor',\n",
       " 'Location Type',\n",
       " 'City',\n",
       " 'Resolution Description',\n",
       " 'Borough']"
      ]
     },
     "execution_count": 17,
     "metadata": {},
     "output_type": "execute_result"
    }
   ],
   "source": [
    "#Categoral Variable\n",
    "print('Categorical Variables')\n",
    "categorical"
   ]
  },
  {
   "cell_type": "code",
   "execution_count": 18,
   "metadata": {},
   "outputs": [
    {
     "name": "stdout",
     "output_type": "stream",
     "text": [
      "Continuous Variables\n"
     ]
    },
    {
     "data": {
      "text/plain": [
       "['Unique Key', 'Incident Zip', 'Latitude', 'Longitude', 'Response_Time']"
      ]
     },
     "execution_count": 18,
     "metadata": {},
     "output_type": "execute_result"
    }
   ],
   "source": [
    "#Continuous Variable\n",
    "print('Continuous Variables')\n",
    "continuous"
   ]
  },
  {
   "cell_type": "code",
   "execution_count": 19,
   "metadata": {},
   "outputs": [
    {
     "name": "stdout",
     "output_type": "stream",
     "text": [
      "Discrete Variables\n"
     ]
    },
    {
     "data": {
      "text/plain": [
       "[]"
      ]
     },
     "execution_count": 19,
     "metadata": {},
     "output_type": "execute_result"
    }
   ],
   "source": [
    "#Discrete Variable\n",
    "print('Discrete Variables')\n",
    "discrete"
   ]
  },
  {
   "cell_type": "code",
   "execution_count": 20,
   "metadata": {},
   "outputs": [
    {
     "name": "stdout",
     "output_type": "stream",
     "text": [
      "Temporal Variables\n"
     ]
    },
    {
     "data": {
      "text/plain": [
       "['Created Date', 'Closed Date', 'Request_Closing_Time']"
      ]
     },
     "execution_count": 20,
     "metadata": {},
     "output_type": "execute_result"
    }
   ],
   "source": [
    "#Categoral Variable\n",
    "print('Temporal Variables')\n",
    "temporal"
   ]
  },
  {
   "cell_type": "markdown",
   "metadata": {},
   "source": [
    "## Check values for variables"
   ]
  },
  {
   "cell_type": "code",
   "execution_count": 21,
   "metadata": {},
   "outputs": [],
   "source": [
    "for var in discrete:\n",
    "    print(var, data[var].unique(),'\\n')"
   ]
  },
  {
   "cell_type": "code",
   "execution_count": 22,
   "metadata": {},
   "outputs": [
    {
     "name": "stdout",
     "output_type": "stream",
     "text": [
      "Unique Key [32310363 32309934 32309159 ... 30283424 30280004 30281825] \n",
      "\n",
      "Incident Zip [10034. 11105. 10458. 10461. 11373. 11215. 10032. 10457. 11415. 11219.\n",
      " 11372. 10453. 11208. 11379. 11374. 11412. 11217. 11234. 10026. 10456.\n",
      " 10030. 10467. 11432. 10031. 11419. 10024. 11201. 11216. 10462. 11385.\n",
      " 11414. 11213. 11375. 11211. 10312. 10017. 11417. 10002. 10027. 11209.\n",
      " 10035. 11418. 11421. 11205. 10468. 11355. 11358. 11210. 11368. 11427.\n",
      " 11436. 10308. 11364. 10011. 11423. 11230. 10003. 11221. 11416. 11378.\n",
      " 11236. 11218. 10029. 10028. 11214. 11207. 11369. 11223. 11220. 10302.\n",
      " 11420. 11354. 10473. 10301. 11103. 10465. 11377. 11212. 11365. 10472.\n",
      " 10452. 11203. 10469. 11237. 11434. 11101. 10460. 11229. 11206. 11102.\n",
      " 10466. 10009. 10033. 11694. 10022. 10470. 11433. 11428. 11413. 10463.\n",
      " 10471. 10474. 11228. 10014. 10475. 11225. 11233. 11370. 11204. 11435.\n",
      " 10459. 11238. 10304. 11367. 10305. 10001. 10314. 10019. 11222. 10023.\n",
      " 11356. 11235. 10018. 10036. 11106. 10075. 10451. 11366. 10005. 10303.\n",
      " 10455. 11361. 10309. 10013. 11226. 10012. 11224. 10016. 11249. 10039.\n",
      " 10128. 10454. 10010. 11360. 11004. 11691. 10025. 10307. 11232. 10038.\n",
      " 10310. 10040. 11426. 10306. 11362. 11411. 11429. 11422. 10007. 10065.\n",
      " 10021. 10004. 11104. 11231. 11357. 11239. 11363. 10037. 11693. 10280.\n",
      " 11430. 10464. 10006. 11692. 10044. 11001. 10282. 11371. 10281. 11109.\n",
      " 11040.    nan    83. 10020. 10000. 11697. 11251. 10103. 10112. 10069.\n",
      " 11451. 10153. 10041. 11242. 10119. 10048. 10803. 11695. 10111. 10162.\n",
      " 10123.] \n",
      "\n",
      "Latitude [40.86568154 40.77594531 40.87032452 ... 40.77664592 40.70635259\n",
      " 40.71605291] \n",
      "\n",
      "Longitude [-73.92350096 -73.91509394 -73.88852464 ... -73.94880526 -73.87124456\n",
      " -73.9913785 ] \n",
      "\n",
      "Response_Time [  55.   86.  291. ... 3383. 2118. 2229.] \n",
      "\n"
     ]
    }
   ],
   "source": [
    "for var in continuous:\n",
    "    print(var, data[var].unique(),'\\n')"
   ]
  },
  {
   "cell_type": "code",
   "execution_count": 23,
   "metadata": {},
   "outputs": [
    {
     "name": "stdout",
     "output_type": "stream",
     "text": [
      "Unique Key 291204\n",
      "Created Date 252057\n",
      "Closed Date 232076\n",
      "Agency 1\n",
      "Complaint Type 15\n",
      "Descriptor 41\n",
      "Location Type 14\n",
      "Incident Zip 200\n",
      "City 48\n",
      "Resolution Description 12\n",
      "Borough 5\n",
      "Latitude 123042\n",
      "Longitude 123141\n",
      "Request_Closing_Time 47137\n",
      "Response_Time 3118\n"
     ]
    }
   ],
   "source": [
    "for var in data.columns:\n",
    "    print(var, data[var].nunique())"
   ]
  },
  {
   "cell_type": "code",
   "execution_count": 24,
   "metadata": {},
   "outputs": [
    {
     "data": {
      "text/html": [
       "<div>\n",
       "<style scoped>\n",
       "    .dataframe tbody tr th:only-of-type {\n",
       "        vertical-align: middle;\n",
       "    }\n",
       "\n",
       "    .dataframe tbody tr th {\n",
       "        vertical-align: top;\n",
       "    }\n",
       "\n",
       "    .dataframe thead th {\n",
       "        text-align: right;\n",
       "    }\n",
       "</style>\n",
       "<table border=\"1\" class=\"dataframe\">\n",
       "  <thead>\n",
       "    <tr style=\"text-align: right;\">\n",
       "      <th></th>\n",
       "      <th>Unique Key</th>\n",
       "      <th>Incident Zip</th>\n",
       "      <th>Latitude</th>\n",
       "      <th>Longitude</th>\n",
       "      <th>Request_Closing_Time</th>\n",
       "      <th>Response_Time</th>\n",
       "    </tr>\n",
       "  </thead>\n",
       "  <tbody>\n",
       "    <tr>\n",
       "      <td>count</td>\n",
       "      <td>2.912040e+05</td>\n",
       "      <td>291164.000000</td>\n",
       "      <td>291204.000000</td>\n",
       "      <td>291204.000000</td>\n",
       "      <td>291204</td>\n",
       "      <td>291204.000000</td>\n",
       "    </tr>\n",
       "    <tr>\n",
       "      <td>mean</td>\n",
       "      <td>3.130155e+07</td>\n",
       "      <td>10858.006429</td>\n",
       "      <td>40.725678</td>\n",
       "      <td>-73.925041</td>\n",
       "      <td>0 days 04:18:30.611983</td>\n",
       "      <td>258.205832</td>\n",
       "    </tr>\n",
       "    <tr>\n",
       "      <td>std</td>\n",
       "      <td>5.753065e+05</td>\n",
       "      <td>580.264882</td>\n",
       "      <td>0.082407</td>\n",
       "      <td>0.078658</td>\n",
       "      <td>0 days 06:03:42.643823</td>\n",
       "      <td>363.706582</td>\n",
       "    </tr>\n",
       "    <tr>\n",
       "      <td>min</td>\n",
       "      <td>3.027948e+07</td>\n",
       "      <td>83.000000</td>\n",
       "      <td>40.499135</td>\n",
       "      <td>-74.254937</td>\n",
       "      <td>0 days 00:01:00</td>\n",
       "      <td>1.000000</td>\n",
       "    </tr>\n",
       "    <tr>\n",
       "      <td>25%</td>\n",
       "      <td>3.079944e+07</td>\n",
       "      <td>10314.000000</td>\n",
       "      <td>40.668933</td>\n",
       "      <td>-73.970993</td>\n",
       "      <td>0 days 01:16:30</td>\n",
       "      <td>76.000000</td>\n",
       "    </tr>\n",
       "    <tr>\n",
       "      <td>50%</td>\n",
       "      <td>3.130665e+07</td>\n",
       "      <td>11209.000000</td>\n",
       "      <td>40.717768</td>\n",
       "      <td>-73.930774</td>\n",
       "      <td>0 days 02:42:38</td>\n",
       "      <td>162.000000</td>\n",
       "    </tr>\n",
       "    <tr>\n",
       "      <td>75%</td>\n",
       "      <td>3.179086e+07</td>\n",
       "      <td>11238.000000</td>\n",
       "      <td>40.782968</td>\n",
       "      <td>-73.875788</td>\n",
       "      <td>0 days 05:20:23</td>\n",
       "      <td>320.000000</td>\n",
       "    </tr>\n",
       "    <tr>\n",
       "      <td>max</td>\n",
       "      <td>3.231065e+07</td>\n",
       "      <td>11697.000000</td>\n",
       "      <td>40.912869</td>\n",
       "      <td>-73.700760</td>\n",
       "      <td>24 days 16:52:22</td>\n",
       "      <td>35572.000000</td>\n",
       "    </tr>\n",
       "  </tbody>\n",
       "</table>\n",
       "</div>"
      ],
      "text/plain": [
       "         Unique Key   Incident Zip       Latitude      Longitude  \\\n",
       "count  2.912040e+05  291164.000000  291204.000000  291204.000000   \n",
       "mean   3.130155e+07   10858.006429      40.725678     -73.925041   \n",
       "std    5.753065e+05     580.264882       0.082407       0.078658   \n",
       "min    3.027948e+07      83.000000      40.499135     -74.254937   \n",
       "25%    3.079944e+07   10314.000000      40.668933     -73.970993   \n",
       "50%    3.130665e+07   11209.000000      40.717768     -73.930774   \n",
       "75%    3.179086e+07   11238.000000      40.782968     -73.875788   \n",
       "max    3.231065e+07   11697.000000      40.912869     -73.700760   \n",
       "\n",
       "         Request_Closing_Time  Response_Time  \n",
       "count                  291204  291204.000000  \n",
       "mean   0 days 04:18:30.611983     258.205832  \n",
       "std    0 days 06:03:42.643823     363.706582  \n",
       "min           0 days 00:01:00       1.000000  \n",
       "25%           0 days 01:16:30      76.000000  \n",
       "50%           0 days 02:42:38     162.000000  \n",
       "75%           0 days 05:20:23     320.000000  \n",
       "max          24 days 16:52:22   35572.000000  "
      ]
     },
     "execution_count": 24,
     "metadata": {},
     "output_type": "execute_result"
    }
   ],
   "source": [
    "data[[var for var in data.columns if data[var].dtype != 'O']].describe()"
   ]
  },
  {
   "cell_type": "markdown",
   "metadata": {},
   "source": [
    "# Checking for NA Values"
   ]
  },
  {
   "cell_type": "code",
   "execution_count": 25,
   "metadata": {},
   "outputs": [
    {
     "data": {
      "text/plain": [
       "Unique Key                0.000000\n",
       "Created Date              0.000000\n",
       "Closed Date               0.000000\n",
       "Agency                    0.000000\n",
       "Complaint Type            0.000000\n",
       "Descriptor                0.000000\n",
       "Location Type             0.000189\n",
       "Incident Zip              0.000137\n",
       "City                      0.000137\n",
       "Resolution Description    0.000000\n",
       "Borough                   0.000000\n",
       "Latitude                  0.000000\n",
       "Longitude                 0.000000\n",
       "Request_Closing_Time      0.000000\n",
       "Response_Time             0.000000\n",
       "dtype: float64"
      ]
     },
     "execution_count": 25,
     "metadata": {},
     "output_type": "execute_result"
    }
   ],
   "source": [
    "#Percentage of NA values by columns\n",
    "data.isnull().mean()"
   ]
  },
  {
   "cell_type": "code",
   "execution_count": 40,
   "metadata": {},
   "outputs": [],
   "source": [
    "data.dropna(subset=['Location Type', 'Incident Zip', 'City'], inplace=True)"
   ]
  },
  {
   "cell_type": "code",
   "execution_count": 41,
   "metadata": {},
   "outputs": [
    {
     "data": {
      "text/plain": [
       "Unique Key                0.0\n",
       "Created Date              0.0\n",
       "Closed Date               0.0\n",
       "Agency                    0.0\n",
       "Complaint Type            0.0\n",
       "Descriptor                0.0\n",
       "Location Type             0.0\n",
       "Incident Zip              0.0\n",
       "City                      0.0\n",
       "Resolution Description    0.0\n",
       "Borough                   0.0\n",
       "Latitude                  0.0\n",
       "Longitude                 0.0\n",
       "Request_Closing_Time      0.0\n",
       "Response_Time             0.0\n",
       "dtype: float64"
      ]
     },
     "execution_count": 41,
     "metadata": {},
     "output_type": "execute_result"
    }
   ],
   "source": [
    "data.isnull().mean()"
   ]
  },
  {
   "cell_type": "markdown",
   "metadata": {},
   "source": [
    "# Exploratory Analysis¶"
   ]
  },
  {
   "cell_type": "code",
   "execution_count": 26,
   "metadata": {},
   "outputs": [],
   "source": [
    "#data['Status'].value_counts().plot(kind='bar',alpha=0.6,figsize=(7,7))\n",
    "#plt.show()"
   ]
  },
  {
   "cell_type": "code",
   "execution_count": 27,
   "metadata": {},
   "outputs": [
    {
     "data": {
      "image/png": "[encoded data removed]",
      "text/plain": [
       "<Figure size 360x360 with 1 Axes>"
      ]
     },
     "metadata": {
      "needs_background": "light"
     },
     "output_type": "display_data"
    }
   ],
   "source": [
    "data['Complaint Type'].value_counts().head(10).plot(kind='barh',figsize=(5,5));"
   ]
  },
  {
   "cell_type": "code",
   "execution_count": 28,
   "metadata": {},
   "outputs": [
    {
     "data": {
      "text/plain": [
       "Borough        Complaint Type  Descriptor               \n",
       "BRONX          Animal Abuse    Chained                      132\n",
       "                               In Car                        36\n",
       "                               Neglected                    672\n",
       "                               No Shelter                    71\n",
       "                               Other (complaint details)    311\n",
       "                                                           ... \n",
       "STATEN ISLAND  Traffic         Congestion/Gridlock          112\n",
       "                               Drag Racing                   18\n",
       "                               Truck Route Violation         13\n",
       "               Vending         In Prohibited Area             5\n",
       "                               Unlicensed                    20\n",
       "Length: 248, dtype: int64"
      ]
     },
     "execution_count": 28,
     "metadata": {},
     "output_type": "execute_result"
    }
   ],
   "source": [
    "data.groupby([\"Borough\",\"Complaint Type\",\"Descriptor\"]).size()"
   ]
  },
  {
   "cell_type": "code",
   "execution_count": 29,
   "metadata": {},
   "outputs": [
    {
     "data": {
      "text/html": [
       "<div>\n",
       "<style scoped>\n",
       "    .dataframe tbody tr th:only-of-type {\n",
       "        vertical-align: middle;\n",
       "    }\n",
       "\n",
       "    .dataframe tbody tr th {\n",
       "        vertical-align: top;\n",
       "    }\n",
       "\n",
       "    .dataframe thead th {\n",
       "        text-align: right;\n",
       "    }\n",
       "</style>\n",
       "<table border=\"1\" class=\"dataframe\">\n",
       "  <thead>\n",
       "    <tr style=\"text-align: right;\">\n",
       "      <th></th>\n",
       "      <th>Complaint Type</th>\n",
       "      <th>count</th>\n",
       "    </tr>\n",
       "  </thead>\n",
       "  <tbody>\n",
       "    <tr>\n",
       "      <td>0</td>\n",
       "      <td>Blocked Driveway</td>\n",
       "      <td>76697</td>\n",
       "    </tr>\n",
       "    <tr>\n",
       "      <td>1</td>\n",
       "      <td>Illegal Parking</td>\n",
       "      <td>74042</td>\n",
       "    </tr>\n",
       "    <tr>\n",
       "      <td>2</td>\n",
       "      <td>Noise - Street/Sidewalk</td>\n",
       "      <td>47771</td>\n",
       "    </tr>\n",
       "    <tr>\n",
       "      <td>3</td>\n",
       "      <td>Noise - Commercial</td>\n",
       "      <td>35159</td>\n",
       "    </tr>\n",
       "    <tr>\n",
       "      <td>4</td>\n",
       "      <td>Derelict Vehicle</td>\n",
       "      <td>17511</td>\n",
       "    </tr>\n",
       "    <tr>\n",
       "      <td>5</td>\n",
       "      <td>Noise - Vehicle</td>\n",
       "      <td>16870</td>\n",
       "    </tr>\n",
       "    <tr>\n",
       "      <td>6</td>\n",
       "      <td>Animal Abuse</td>\n",
       "      <td>7745</td>\n",
       "    </tr>\n",
       "    <tr>\n",
       "      <td>7</td>\n",
       "      <td>Traffic</td>\n",
       "      <td>4471</td>\n",
       "    </tr>\n",
       "    <tr>\n",
       "      <td>8</td>\n",
       "      <td>Noise - Park</td>\n",
       "      <td>3927</td>\n",
       "    </tr>\n",
       "    <tr>\n",
       "      <td>9</td>\n",
       "      <td>Vending</td>\n",
       "      <td>3773</td>\n",
       "    </tr>\n",
       "  </tbody>\n",
       "</table>\n",
       "</div>"
      ],
      "text/plain": [
       "            Complaint Type  count\n",
       "0         Blocked Driveway  76697\n",
       "1          Illegal Parking  74042\n",
       "2  Noise - Street/Sidewalk  47771\n",
       "3       Noise - Commercial  35159\n",
       "4         Derelict Vehicle  17511\n",
       "5          Noise - Vehicle  16870\n",
       "6             Animal Abuse   7745\n",
       "7                  Traffic   4471\n",
       "8             Noise - Park   3927\n",
       "9                  Vending   3773"
      ]
     },
     "execution_count": 29,
     "metadata": {},
     "output_type": "execute_result"
    }
   ],
   "source": [
    "majorcomplints=data.dropna(subset=[\"Complaint Type\"])\n",
    "majorcomplints=data.groupby(\"Complaint Type\")\n",
    "\n",
    "sortedComplaintType = majorcomplints.size().sort_values(ascending = False)\n",
    "sortedComplaintType = sortedComplaintType.to_frame('count').reset_index()\n",
    "\n",
    "sortedComplaintType\n",
    "sortedComplaintType.head(10)"
   ]
  },
  {
   "cell_type": "code",
   "execution_count": 30,
   "metadata": {},
   "outputs": [
    {
     "data": {
      "image/png": "[encoded data removed]",
      "text/plain": [
       "<Figure size 360x360 with 1 Axes>"
      ]
     },
     "metadata": {},
     "output_type": "display_data"
    }
   ],
   "source": [
    "sortedComplaintType = sortedComplaintType.head()\n",
    "plt.figure(figsize=(5,5))\n",
    "plt.pie(sortedComplaintType['count'],labels=sortedComplaintType[\"Complaint Type\"], autopct=\"%1.1f%%\")\n",
    "plt.show()"
   ]
  },
  {
   "cell_type": "code",
   "execution_count": 31,
   "metadata": {},
   "outputs": [
    {
     "name": "stdout",
     "output_type": "stream",
     "text": [
      "Complaint Type  City         \n",
      "Animal Abuse    Arverne           38\n",
      "                Astoria          125\n",
      "                Bayside           37\n",
      "                Bellerose          7\n",
      "                Breezy Point       2\n",
      "                                ... \n",
      "Vending         Staten Island     25\n",
      "                Sunnyside         15\n",
      "                Whitestone         1\n",
      "                Woodhaven          6\n",
      "                Woodside          15\n",
      "Length: 600, dtype: int64\n"
     ]
    }
   ],
   "source": [
    "\n",
    "majorcomplints=data.dropna(subset=[\"Complaint Type\"])\n",
    "majorcomplints=data.groupby([\"Complaint Type\",\"City\"] )\n",
    "x =majorcomplints.size()\n",
    "print(x)\n",
    "\n"
   ]
  },
  {
   "cell_type": "code",
   "execution_count": 44,
   "metadata": {},
   "outputs": [
    {
     "data": {
      "text/html": [
       "<div>\n",
       "<style scoped>\n",
       "    .dataframe tbody tr th:only-of-type {\n",
       "        vertical-align: middle;\n",
       "    }\n",
       "\n",
       "    .dataframe tbody tr th {\n",
       "        vertical-align: top;\n",
       "    }\n",
       "\n",
       "    .dataframe thead th {\n",
       "        text-align: right;\n",
       "    }\n",
       "</style>\n",
       "<table border=\"1\" class=\"dataframe\">\n",
       "  <thead>\n",
       "    <tr style=\"text-align: right;\">\n",
       "      <th>Complaint Type</th>\n",
       "      <th>Blocked Driveway</th>\n",
       "      <th>Illegal Parking</th>\n",
       "      <th>Noise - Commercial</th>\n",
       "      <th>Noise - Street/Sidewalk</th>\n",
       "      <th>Derelict Vehicle</th>\n",
       "      <th>Animal Abuse</th>\n",
       "    </tr>\n",
       "    <tr>\n",
       "      <th>Borough</th>\n",
       "      <th></th>\n",
       "      <th></th>\n",
       "      <th></th>\n",
       "      <th></th>\n",
       "      <th></th>\n",
       "      <th></th>\n",
       "    </tr>\n",
       "  </thead>\n",
       "  <tbody>\n",
       "    <tr>\n",
       "      <td>BRONX</td>\n",
       "      <td>12740</td>\n",
       "      <td>7829</td>\n",
       "      <td>2431</td>\n",
       "      <td>8864</td>\n",
       "      <td>1948</td>\n",
       "      <td>1412</td>\n",
       "    </tr>\n",
       "    <tr>\n",
       "      <td>BROOKLYN</td>\n",
       "      <td>28119</td>\n",
       "      <td>27386</td>\n",
       "      <td>11451</td>\n",
       "      <td>13315</td>\n",
       "      <td>5164</td>\n",
       "      <td>2390</td>\n",
       "    </tr>\n",
       "    <tr>\n",
       "      <td>MANHATTAN</td>\n",
       "      <td>2055</td>\n",
       "      <td>11981</td>\n",
       "      <td>14528</td>\n",
       "      <td>20362</td>\n",
       "      <td>530</td>\n",
       "      <td>1511</td>\n",
       "    </tr>\n",
       "    <tr>\n",
       "      <td>QUEENS</td>\n",
       "      <td>31621</td>\n",
       "      <td>21944</td>\n",
       "      <td>6057</td>\n",
       "      <td>4391</td>\n",
       "      <td>8102</td>\n",
       "      <td>1874</td>\n",
       "    </tr>\n",
       "    <tr>\n",
       "      <td>STATEN ISLAND</td>\n",
       "      <td>2141</td>\n",
       "      <td>4881</td>\n",
       "      <td>677</td>\n",
       "      <td>815</td>\n",
       "      <td>1762</td>\n",
       "      <td>557</td>\n",
       "    </tr>\n",
       "  </tbody>\n",
       "</table>\n",
       "</div>"
      ],
      "text/plain": [
       "Complaint Type  Blocked Driveway  Illegal Parking  Noise - Commercial  \\\n",
       "Borough                                                                 \n",
       "BRONX                      12740             7829                2431   \n",
       "BROOKLYN                   28119            27386               11451   \n",
       "MANHATTAN                   2055            11981               14528   \n",
       "QUEENS                     31621            21944                6057   \n",
       "STATEN ISLAND               2141             4881                 677   \n",
       "\n",
       "Complaint Type  Noise - Street/Sidewalk  Derelict Vehicle  Animal Abuse  \n",
       "Borough                                                                  \n",
       "BRONX                              8864              1948          1412  \n",
       "BROOKLYN                          13315              5164          2390  \n",
       "MANHATTAN                         20362               530          1511  \n",
       "QUEENS                             4391              8102          1874  \n",
       "STATEN ISLAND                       815              1762           557  "
      ]
     },
     "execution_count": 44,
     "metadata": {},
     "output_type": "execute_result"
    }
   ],
   "source": [
    "top6_complaints = ['Blocked Driveway','Illegal Parking','Noise - Commercial','Noise - Street/Sidewalk','Derelict Vehicle','Animal Abuse']\n",
    "comp_borough = data.groupby(['Borough','Complaint Type']).size().unstack()\n",
    "comp_borough = comp_borough[top6_complaints]\n",
    "comp_borough"
   ]
  },
  {
   "cell_type": "code",
   "execution_count": 45,
   "metadata": {},
   "outputs": [
    {
     "data": {
      "image/png": "[encoded data removed]",
      "text/plain": [
       "<Figure size 864x576 with 6 Axes>"
      ]
     },
     "metadata": {
      "needs_background": "light"
     },
     "output_type": "display_data"
    }
   ],
   "source": [
    "col_number = 2\n",
    "row_number = 3\n",
    "fig, axes = plt.subplots(row_number,col_number, figsize=(12,8))\n",
    "\n",
    "for i, (label,col) in enumerate(comp_borough.iteritems()):\n",
    "    ax = axes[int(i/col_number), i%col_number]\n",
    "    col = col.sort_values(ascending=True)[:15]\n",
    "    col.plot(kind='barh', ax=ax)\n",
    "    ax.set_title(label)\n",
    "    \n",
    "plt.tight_layout()"
   ]
  },
  {
   "cell_type": "markdown",
   "metadata": {},
   "source": [
    "- Clearly Manhattan is making most of the noise, followed by Brooklyn.\n",
    "- Brooklyn has the most number of 'Illegal parking' complaints and is also on the top for 'Animal Abuse'. (Savages!)\n",
    "- Queens has highest complaints for 'Blocked Driveway' as well as for 'Derelict Vehicle'"
   ]
  },
  {
   "cell_type": "code",
   "execution_count": 47,
   "metadata": {},
   "outputs": [
    {
     "data": {
      "image/png": "[encoded data removed]",
      "text/plain": [
       "<Figure size 864x864 with 6 Axes>"
      ]
     },
     "metadata": {
      "needs_background": "light"
     },
     "output_type": "display_data"
    }
   ],
   "source": [
    "# Visualization of most Complaints per Borough\n",
    "borough_comp = data.groupby(['Complaint Type','Borough']).size().unstack()\n",
    "\n",
    "col_number = 2\n",
    "row_number = 3\n",
    "fig, axes = plt.subplots(row_number,col_number, figsize=(12,12))\n",
    "\n",
    "for i, (label,col) in enumerate(borough_comp.iteritems()):\n",
    "    ax = axes[int(i/col_number), i%col_number]\n",
    "    col = col.sort_values(ascending=True)[:15]\n",
    "    col.plot(kind='barh', ax=ax)\n",
    "    ax.set_title(label)\n",
    "    \n",
    "plt.tight_layout()\n"
   ]
  },
  {
   "cell_type": "markdown",
   "metadata": {},
   "source": [
    "- Apart from Manhattan, number of Complaints for 'Blocked Driveway' and 'Illegal Parking' is highest for each Borough.\n",
    "- Manhattan has highest number of Noise complaints. Fortunaltely, parking in Manhattan is better than other Boroughs."
   ]
  },
  {
   "cell_type": "code",
   "execution_count": 49,
   "metadata": {},
   "outputs": [
    {
     "data": {
      "text/plain": [
       "<matplotlib.axes._subplots.AxesSubplot at 0x1e7c51340c8>"
      ]
     },
     "execution_count": 49,
     "metadata": {},
     "output_type": "execute_result"
    },
    {
     "data": {
      "image/png": "[encoded data removed]",
      "text/plain": [
       "<Figure size 432x288 with 1 Axes>"
      ]
     },
     "metadata": {
      "needs_background": "light"
     },
     "output_type": "display_data"
    }
   ],
   "source": [
    "data['Borough'].value_counts().plot('bar')"
   ]
  },
  {
   "cell_type": "markdown",
   "metadata": {},
   "source": [
    "- Borough wise, Brooklyn has the most number of Complaints followed by Queens and Manhattan.\n",
    "\n",
    "- Lets plot a treemap of top 10 cities for highest number of complaints."
   ]
  },
  {
   "cell_type": "code",
   "execution_count": 56,
   "metadata": {},
   "outputs": [
    {
     "data": {
      "image/png": "[encoded data removed]",
      "text/plain": [
       "<Figure size 1008x864 with 1 Axes>"
      ]
     },
     "metadata": {
      "needs_background": "light"
     },
     "output_type": "display_data"
    }
   ],
   "source": [
    "citywise_complaints = pd.DataFrame(data['City'].value_counts()[:10])\n",
    "\n",
    "import squarify\n",
    "\n",
    "fig = plt.gcf()\n",
    "fig.set_size_inches(14, 12)\n",
    "label=zip(list(citywise_complaints.index),citywise_complaints['City'])\n",
    "squarify.plot(sizes=citywise_complaints['City'], label=label, alpha=0.7)\n",
    "plt.axis('off')\n",
    "plt.show()\n"
   ]
  },
  {
   "cell_type": "markdown",
   "metadata": {},
   "source": [
    "Brooklyn in the winner here raising 1/3 of overall complaints "
   ]
  },
  {
   "cell_type": "code",
   "execution_count": 57,
   "metadata": {},
   "outputs": [
    {
     "data": {
      "text/plain": [
       "count                    291107\n",
       "mean     0 days 04:18:32.132665\n",
       "std      0 days 06:03:45.509089\n",
       "min             0 days 00:01:00\n",
       "25%             0 days 01:16:30\n",
       "50%             0 days 02:42:38\n",
       "75%             0 days 05:20:24\n",
       "max            24 days 16:52:22\n",
       "Name: Request_Closing_Time, dtype: object"
      ]
     },
     "execution_count": 57,
     "metadata": {},
     "output_type": "execute_result"
    }
   ],
   "source": [
    "data['Request_Closing_Time'].describe()"
   ]
  },
  {
   "cell_type": "code",
   "execution_count": 59,
   "metadata": {},
   "outputs": [
    {
     "data": {
      "text/plain": [
       "12167     13401.0\n",
       "12168     13402.0\n",
       "21268     31156.0\n",
       "23664     34641.0\n",
       "244488    35572.0\n",
       "Name: Response_Time, dtype: float64"
      ]
     },
     "execution_count": 59,
     "metadata": {},
     "output_type": "execute_result"
    }
   ],
   "source": [
    "data['Response_Time'].sort_values().tail()"
   ]
  },
  {
   "cell_type": "code",
   "execution_count": 60,
   "metadata": {},
   "outputs": [
    {
     "data": {
      "image/png": "[encoded data removed]",
      "text/plain": [
       "<Figure size 432x288 with 1 Axes>"
      ]
     },
     "metadata": {
      "needs_background": "light"
     },
     "output_type": "display_data"
    }
   ],
   "source": [
    "mean = data['Response_Time'].mean()\n",
    "std = data['Response_Time'].std()\n",
    "\n",
    "\n",
    "plot_data = data[ ((data['Response_Time']-mean)/std) < 1]\n",
    "plot_data['Response_Time'].hist(bins=9)\n",
    "plt.xlabel('Time(Minutes) to close the request')\n",
    "plt.ylabel('Number of Requets')\n",
    "plt.title('Requests closing time distribution')\n",
    "plt.show()"
   ]
  },
  {
   "cell_type": "markdown",
   "metadata": {},
   "source": [
    "- Above distribution shows that around half of overall complaints were closed within 2 to 4 hours\n",
    "- Around 99% of the complaints were closed within 10 hours."
   ]
  },
  {
   "cell_type": "code",
   "execution_count": 62,
   "metadata": {},
   "outputs": [
    {
     "data": {
      "image/png": "[encoded data removed]",
      "text/plain": [
       "<Figure size 864x360 with 1 Axes>"
      ]
     },
     "metadata": {
      "needs_background": "light"
     },
     "output_type": "display_data"
    }
   ],
   "source": [
    "\n",
    "import datetime\n",
    "data['YYYY-MM'] = data['Created Date'].apply(lambda x: datetime.datetime.strftime(x, '%Y-%m'))\n",
    "\n",
    "#Incidents on a monthly basis\n",
    "monthly_incidents =  data.groupby('YYYY-MM').size().plot(figsize=(12,5), title='Incidents on a monthly basis');"
   ]
  },
  {
   "cell_type": "markdown",
   "metadata": {},
   "source": [
    "- January and Februray have the least number of complaints.\n",
    "- May and September has the highest number of complaints."
   ]
  },
  {
   "cell_type": "code",
   "execution_count": 63,
   "metadata": {},
   "outputs": [
    {
     "data": {
      "image/png": "[encoded data removed]",
      "text/plain": [
       "<Figure size 1080x432 with 1 Axes>"
      ]
     },
     "metadata": {
      "needs_background": "light"
     },
     "output_type": "display_data"
    }
   ],
   "source": [
    "# Complaints per Borough through the year\n",
    "data.groupby(['YYYY-MM','Borough']).size().unstack().plot(figsize=(15,6))\n",
    "plt.legend(loc='center left', bbox_to_anchor=(1.0, 0.5));"
   ]
  },
  {
   "cell_type": "code",
   "execution_count": null,
   "metadata": {},
   "outputs": [],
   "source": [
    "- Brooklyn raise highest number of complaints in May and September and least comlaints in February"
   ]
  },
  {
   "cell_type": "markdown",
   "metadata": {},
   "source": [
    "# Null and Alternate Hypothesis"
   ]
  },
  {
   "cell_type": "markdown",
   "metadata": {},
   "source": [
    "## Problem 1"
   ]
  },
  {
   "cell_type": "markdown",
   "metadata": {},
   "source": [
    "Whether the average response time across complaint types is similar or not (overall)"
   ]
  },
  {
   "cell_type": "markdown",
   "metadata": {},
   "source": [
    "### Hypothesis\n"
   ]
  },
  {
   "cell_type": "markdown",
   "metadata": {},
   "source": [
    "Ho: The average response time across complaint types is similar \n",
    "\n",
    "H1: the average response time across complaint types is not similar"
   ]
  },
  {
   "cell_type": "markdown",
   "metadata": {},
   "source": [
    "#### Statistical Test "
   ]
  },
  {
   "cell_type": "code",
   "execution_count": 32,
   "metadata": {},
   "outputs": [],
   "source": [
    "df_anova = data.copy()"
   ]
  },
  {
   "cell_type": "markdown",
   "metadata": {},
   "source": [
    "- Below We conduct ANOVA test for top all type of complaints\n",
    "\n",
    "- For a 95% of confidence interval we choose our alpha as 0.05 for 5%\n",
    "Alpha(0.05) is the critical p-value, if our calculated p-value is less than alpha, it will give us strong evidence to reject Null Hypothesis.\n",
    "\n",
    "- if p < alpha(0.05) : Reject Null Hypothesis, Average response time for all the complaints type is not same.\n",
    "\n",
    "- if p > alpha(0.05) : Fail to reject Null Hypothesis, Average response time for all the complaints type is same."
   ]
  },
  {
   "cell_type": "code",
   "execution_count": 33,
   "metadata": {},
   "outputs": [
    {
     "name": "stdout",
     "output_type": "stream",
     "text": [
      "                      df        sum_sq       mean_sq           F  PR(>F)\n",
      "Complaint_Type      14.0  1.043415e+09  7.452967e+07  579.071177     0.0\n",
      "Residual        291189.0  3.747764e+10  1.287055e+05         NaN     NaN\n"
     ]
    }
   ],
   "source": [
    "import statsmodels.api as sm\n",
    "from statsmodels.formula.api import ols\n",
    "\n",
    "df_anova = data.copy()\n",
    "df_anova = df_anova[['Response_Time','Complaint Type']]\n",
    "df_anova['Complaint_Type']= df_anova['Complaint Type']\n",
    "df_anova=df_anova.drop('Complaint Type', axis=1)\n",
    "\n",
    "lm = ols('Response_Time ~ Complaint_Type', df_anova).fit()\n",
    "table= sm.stats.anova_lm(lm)\n",
    "print(table)"
   ]
  },
  {
   "cell_type": "markdown",
   "metadata": {},
   "source": [
    "- PR(>F): P-value for significance comparing to previous model in args \n"
   ]
  },
  {
   "cell_type": "markdown",
   "metadata": {},
   "source": [
    "#### Result:"
   ]
  },
  {
   "cell_type": "markdown",
   "metadata": {},
   "source": [
    "- The P-value (PR(>F)) is 0.0\n",
    "- Since our p-value is lower than our critical p-value (alpha = 0.05), we will conclude that we have enough evidence to reject Null Hypothesis"
   ]
  },
  {
   "cell_type": "markdown",
   "metadata": {},
   "source": [
    "## Problem 2"
   ]
  },
  {
   "cell_type": "markdown",
   "metadata": {},
   "source": [
    "Are the type of complaint or service requested and location related?"
   ]
  },
  {
   "cell_type": "markdown",
   "metadata": {},
   "source": [
    "### Hypothesis"
   ]
  },
  {
   "cell_type": "markdown",
   "metadata": {},
   "source": [
    "Ho: The type of complaint or service requested and location are related \n",
    "\n",
    "H1: The type of complaint or service requested and location are not related "
   ]
  },
  {
   "cell_type": "markdown",
   "metadata": {},
   "source": [
    "#### Statistical Test "
   ]
  },
  {
   "cell_type": "code",
   "execution_count": 34,
   "metadata": {},
   "outputs": [],
   "source": [
    "df_anova = data.copy()\n",
    "df_anova = df_anova[['Complaint Type','Borough','Longitude','Latitude','City']]\n"
   ]
  },
  {
   "cell_type": "code",
   "execution_count": 35,
   "metadata": {},
   "outputs": [
    {
     "data": {
      "text/html": [
       "<div>\n",
       "<style scoped>\n",
       "    .dataframe tbody tr th:only-of-type {\n",
       "        vertical-align: middle;\n",
       "    }\n",
       "\n",
       "    .dataframe tbody tr th {\n",
       "        vertical-align: top;\n",
       "    }\n",
       "\n",
       "    .dataframe thead th {\n",
       "        text-align: right;\n",
       "    }\n",
       "</style>\n",
       "<table border=\"1\" class=\"dataframe\">\n",
       "  <thead>\n",
       "    <tr style=\"text-align: right;\">\n",
       "      <th></th>\n",
       "      <th>Complaint Type</th>\n",
       "      <th>Borough</th>\n",
       "      <th>Longitude</th>\n",
       "      <th>Latitude</th>\n",
       "      <th>City</th>\n",
       "    </tr>\n",
       "  </thead>\n",
       "  <tbody>\n",
       "    <tr>\n",
       "      <td>0</td>\n",
       "      <td>Noise - Street/Sidewalk</td>\n",
       "      <td>MANHATTAN</td>\n",
       "      <td>-73.923501</td>\n",
       "      <td>40.865682</td>\n",
       "      <td>New York</td>\n",
       "    </tr>\n",
       "    <tr>\n",
       "      <td>1</td>\n",
       "      <td>Blocked Driveway</td>\n",
       "      <td>QUEENS</td>\n",
       "      <td>-73.915094</td>\n",
       "      <td>40.775945</td>\n",
       "      <td>Astoria</td>\n",
       "    </tr>\n",
       "    <tr>\n",
       "      <td>2</td>\n",
       "      <td>Blocked Driveway</td>\n",
       "      <td>BRONX</td>\n",
       "      <td>-73.888525</td>\n",
       "      <td>40.870325</td>\n",
       "      <td>Bronx</td>\n",
       "    </tr>\n",
       "    <tr>\n",
       "      <td>3</td>\n",
       "      <td>Illegal Parking</td>\n",
       "      <td>BRONX</td>\n",
       "      <td>-73.828379</td>\n",
       "      <td>40.835994</td>\n",
       "      <td>Bronx</td>\n",
       "    </tr>\n",
       "    <tr>\n",
       "      <td>4</td>\n",
       "      <td>Illegal Parking</td>\n",
       "      <td>QUEENS</td>\n",
       "      <td>-73.874170</td>\n",
       "      <td>40.733060</td>\n",
       "      <td>Elmhurst</td>\n",
       "    </tr>\n",
       "  </tbody>\n",
       "</table>\n",
       "</div>"
      ],
      "text/plain": [
       "            Complaint Type    Borough  Longitude   Latitude      City\n",
       "0  Noise - Street/Sidewalk  MANHATTAN -73.923501  40.865682  New York\n",
       "1         Blocked Driveway     QUEENS -73.915094  40.775945   Astoria\n",
       "2         Blocked Driveway      BRONX -73.888525  40.870325     Bronx\n",
       "3          Illegal Parking      BRONX -73.828379  40.835994     Bronx\n",
       "4          Illegal Parking     QUEENS -73.874170  40.733060  Elmhurst"
      ]
     },
     "execution_count": 35,
     "metadata": {},
     "output_type": "execute_result"
    }
   ],
   "source": [
    "df_anova.head()"
   ]
  },
  {
   "cell_type": "markdown",
   "metadata": {},
   "source": [
    "Since Our data in Complaint Type, Borough and City is Categorical hence we can not directly apply corr() method.\n",
    "First we will convert the categorical data to numerical data by mapping the category to category codes"
   ]
  },
  {
   "cell_type": "code",
   "execution_count": 36,
   "metadata": {},
   "outputs": [],
   "source": [
    "df_anova['Complaint Type'] = df_anova['Complaint Type'].astype('category').cat.codes\n",
    "df_anova['Borough'] = df_anova['Borough'].astype('category').cat.codes\n",
    "df_anova['City'] = df_anova['City'].astype('category').cat.codes"
   ]
  },
  {
   "cell_type": "code",
   "execution_count": 37,
   "metadata": {},
   "outputs": [
    {
     "data": {
      "text/html": [
       "<div>\n",
       "<style scoped>\n",
       "    .dataframe tbody tr th:only-of-type {\n",
       "        vertical-align: middle;\n",
       "    }\n",
       "\n",
       "    .dataframe tbody tr th {\n",
       "        vertical-align: top;\n",
       "    }\n",
       "\n",
       "    .dataframe thead th {\n",
       "        text-align: right;\n",
       "    }\n",
       "</style>\n",
       "<table border=\"1\" class=\"dataframe\">\n",
       "  <thead>\n",
       "    <tr style=\"text-align: right;\">\n",
       "      <th></th>\n",
       "      <th>Complaint Type</th>\n",
       "      <th>Borough</th>\n",
       "      <th>Longitude</th>\n",
       "      <th>Latitude</th>\n",
       "      <th>City</th>\n",
       "    </tr>\n",
       "  </thead>\n",
       "  <tbody>\n",
       "    <tr>\n",
       "      <td>0</td>\n",
       "      <td>10</td>\n",
       "      <td>2</td>\n",
       "      <td>-73.923501</td>\n",
       "      <td>40.865682</td>\n",
       "      <td>29</td>\n",
       "    </tr>\n",
       "    <tr>\n",
       "      <td>1</td>\n",
       "      <td>1</td>\n",
       "      <td>3</td>\n",
       "      <td>-73.915094</td>\n",
       "      <td>40.775945</td>\n",
       "      <td>1</td>\n",
       "    </tr>\n",
       "    <tr>\n",
       "      <td>2</td>\n",
       "      <td>1</td>\n",
       "      <td>0</td>\n",
       "      <td>-73.888525</td>\n",
       "      <td>40.870325</td>\n",
       "      <td>5</td>\n",
       "    </tr>\n",
       "    <tr>\n",
       "      <td>3</td>\n",
       "      <td>6</td>\n",
       "      <td>0</td>\n",
       "      <td>-73.828379</td>\n",
       "      <td>40.835994</td>\n",
       "      <td>5</td>\n",
       "    </tr>\n",
       "    <tr>\n",
       "      <td>4</td>\n",
       "      <td>6</td>\n",
       "      <td>3</td>\n",
       "      <td>-73.874170</td>\n",
       "      <td>40.733060</td>\n",
       "      <td>12</td>\n",
       "    </tr>\n",
       "  </tbody>\n",
       "</table>\n",
       "</div>"
      ],
      "text/plain": [
       "   Complaint Type  Borough  Longitude   Latitude  City\n",
       "0              10        2 -73.923501  40.865682    29\n",
       "1               1        3 -73.915094  40.775945     1\n",
       "2               1        0 -73.888525  40.870325     5\n",
       "3               6        0 -73.828379  40.835994     5\n",
       "4               6        3 -73.874170  40.733060    12"
      ]
     },
     "execution_count": 37,
     "metadata": {},
     "output_type": "execute_result"
    }
   ],
   "source": [
    "df_anova.head()"
   ]
  },
  {
   "cell_type": "code",
   "execution_count": 38,
   "metadata": {},
   "outputs": [
    {
     "data": {
      "text/html": [
       "<div>\n",
       "<style scoped>\n",
       "    .dataframe tbody tr th:only-of-type {\n",
       "        vertical-align: middle;\n",
       "    }\n",
       "\n",
       "    .dataframe tbody tr th {\n",
       "        vertical-align: top;\n",
       "    }\n",
       "\n",
       "    .dataframe thead th {\n",
       "        text-align: right;\n",
       "    }\n",
       "</style>\n",
       "<table border=\"1\" class=\"dataframe\">\n",
       "  <thead>\n",
       "    <tr style=\"text-align: right;\">\n",
       "      <th></th>\n",
       "      <th>Complaint Type</th>\n",
       "      <th>Borough</th>\n",
       "      <th>Longitude</th>\n",
       "      <th>Latitude</th>\n",
       "      <th>City</th>\n",
       "    </tr>\n",
       "  </thead>\n",
       "  <tbody>\n",
       "    <tr>\n",
       "      <td>Complaint Type</td>\n",
       "      <td>1.000000</td>\n",
       "      <td>-0.076783</td>\n",
       "      <td>-0.181838</td>\n",
       "      <td>0.170170</td>\n",
       "      <td>0.086512</td>\n",
       "    </tr>\n",
       "    <tr>\n",
       "      <td>Borough</td>\n",
       "      <td>-0.076783</td>\n",
       "      <td>1.000000</td>\n",
       "      <td>0.022102</td>\n",
       "      <td>-0.250846</td>\n",
       "      <td>0.725223</td>\n",
       "    </tr>\n",
       "    <tr>\n",
       "      <td>Longitude</td>\n",
       "      <td>-0.181838</td>\n",
       "      <td>0.022102</td>\n",
       "      <td>1.000000</td>\n",
       "      <td>0.368839</td>\n",
       "      <td>-0.119745</td>\n",
       "    </tr>\n",
       "    <tr>\n",
       "      <td>Latitude</td>\n",
       "      <td>0.170170</td>\n",
       "      <td>-0.250846</td>\n",
       "      <td>0.368839</td>\n",
       "      <td>1.000000</td>\n",
       "      <td>-0.015111</td>\n",
       "    </tr>\n",
       "    <tr>\n",
       "      <td>City</td>\n",
       "      <td>0.086512</td>\n",
       "      <td>0.725223</td>\n",
       "      <td>-0.119745</td>\n",
       "      <td>-0.015111</td>\n",
       "      <td>1.000000</td>\n",
       "    </tr>\n",
       "  </tbody>\n",
       "</table>\n",
       "</div>"
      ],
      "text/plain": [
       "                Complaint Type   Borough  Longitude  Latitude      City\n",
       "Complaint Type        1.000000 -0.076783  -0.181838  0.170170  0.086512\n",
       "Borough              -0.076783  1.000000   0.022102 -0.250846  0.725223\n",
       "Longitude            -0.181838  0.022102   1.000000  0.368839 -0.119745\n",
       "Latitude              0.170170 -0.250846   0.368839  1.000000 -0.015111\n",
       "City                  0.086512  0.725223  -0.119745 -0.015111  1.000000"
      ]
     },
     "execution_count": 38,
     "metadata": {},
     "output_type": "execute_result"
    }
   ],
   "source": [
    "df_anova.corr(method='pearson')"
   ]
  },
  {
   "cell_type": "markdown",
   "metadata": {},
   "source": [
    "#### Result:"
   ]
  },
  {
   "cell_type": "markdown",
   "metadata": {},
   "source": [
    "-  we can see from above table, there is no relationship between complaint type and location."
   ]
  }
 ],
 "metadata": {
  "kernelspec": {
   "display_name": "Python 3",
   "language": "python",
   "name": "python3"
  },
  "language_info": {
   "codemirror_mode": {
    "name": "ipython",
    "version": 3
   },
   "file_extension": ".py",
   "mimetype": "text/x-python",
   "name": "python",
   "nbconvert_exporter": "python",
   "pygments_lexer": "ipython3",
   "version": "3.7.4"
  },
  "toc": {
   "base_numbering": 1,
   "nav_menu": {},
   "number_sections": true,
   "sideBar": true,
   "skip_h1_title": false,
   "title_cell": "Table of Contents",
   "title_sidebar": "Contents",
   "toc_cell": true,
   "toc_position": {
    "height": "501.333px",
    "left": "55px",
    "top": "110.233px",
    "width": "235.667px"
   },
   "toc_section_display": true,
   "toc_window_display": true
  }
 },
 "nbformat": 4,
 "nbformat_minor": 2
}
